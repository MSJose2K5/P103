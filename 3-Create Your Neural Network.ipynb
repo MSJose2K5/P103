{
 "cells": [
  {
   "cell_type": "markdown",
   "metadata": {
    "colab_type": "text",
    "id": "XdV-deaIZWL0"
   },
   "source": [
    "# Medical image analysis with PyTorch\n",
    "\n",
    "Create a deep convolutional network for an image translation task with PyTorch from scratch and train it on a subset of the IXI dataset for a T1-w to T2-w transformation."
   ]
  },
  {
   "cell_type": "markdown",
   "metadata": {
    "colab_type": "text",
    "id": "sNSmyxTUZWL3"
   },
   "source": [
    "### Setup notebook"
   ]
  },
  {
   "cell_type": "code",
   "execution_count": 1,
   "metadata": {
    "colab": {},
    "colab_type": "code",
    "id": "UeWMkjQyZWL6"
   },
   "outputs": [],
   "source": [
    "from typing import Callable, List, Optional, Tuple, Union\n",
    "\n",
    "from glob import glob\n",
    "import os\n",
    "import random\n",
    "import sys\n",
    "\n",
    "import matplotlib.pyplot as plt\n",
    "import nibabel as nib\n",
    "import numpy as np\n",
    "\n",
    "import torch\n",
    "from torch import nn\n",
    "import torch.nn.functional as F\n",
    "from torch.utils.data.dataset import Dataset\n",
    "from torch.utils.data import DataLoader\n",
    "from torch.utils.data.sampler import SubsetRandomSampler\n",
    "import torchvision\n",
    "from torchvision.transforms import Compose"
   ]
  },
  {
   "cell_type": "markdown",
   "metadata": {
    "colab_type": "text",
    "id": "_rSc0EYCZWMB"
   },
   "source": [
    " Support in-notebook plotting"
   ]
  },
  {
   "cell_type": "code",
   "execution_count": 2,
   "metadata": {
    "colab": {},
    "colab_type": "code",
    "id": "9mU0dn9aZWMD"
   },
   "outputs": [],
   "source": [
    "%matplotlib inline"
   ]
  },
  {
   "cell_type": "markdown",
   "metadata": {
    "colab_type": "text",
    "id": "DdpkEgeuZWMJ"
   },
   "source": [
    "Report versions"
   ]
  },
  {
   "cell_type": "code",
   "execution_count": 3,
   "metadata": {
    "colab": {},
    "colab_type": "code",
    "id": "CvLUQW2OZWML",
    "outputId": "560a83ea-2f82-4364-e1ca-c2d9377179e3"
   },
   "outputs": [
    {
     "name": "stdout",
     "output_type": "stream",
     "text": [
      "numpy version: 1.18.3\n",
      "matplotlib version: 3.2.1\n",
      "pytorch version: 1.5.0\n",
      "torchvision version: 0.6.0a0+82fd1c8\n"
     ]
    }
   ],
   "source": [
    "print('numpy version: {}'.format(np.__version__))\n",
    "from matplotlib import __version__ as mplver\n",
    "print('matplotlib version: {}'.format(mplver))\n",
    "print(f'pytorch version: {torch.__version__}')\n",
    "print(f'torchvision version: {torchvision.__version__}')"
   ]
  },
  {
   "cell_type": "code",
   "execution_count": 4,
   "metadata": {
    "colab": {},
    "colab_type": "code",
    "id": "W41Y_1mCZWMT",
    "outputId": "d3584c33-a981-4d64-cb5f-80f9df856082"
   },
   "outputs": [
    {
     "name": "stdout",
     "output_type": "stream",
     "text": [
      "python version: 3.7.3\n"
     ]
    }
   ],
   "source": [
    "pv = sys.version_info\n",
    "print('python version: {}.{}.{}'.format(pv.major, pv.minor, pv.micro))"
   ]
  },
  {
   "cell_type": "markdown",
   "metadata": {
    "colab_type": "text",
    "id": "MQ61MXgDZWMZ"
   },
   "source": [
    "Reload packages where content for package development"
   ]
  },
  {
   "cell_type": "code",
   "execution_count": 5,
   "metadata": {
    "colab": {},
    "colab_type": "code",
    "id": "tq1ATBYRZWMb"
   },
   "outputs": [],
   "source": [
    "%load_ext autoreload\n",
    "%autoreload 2"
   ]
  },
  {
   "cell_type": "markdown",
   "metadata": {
    "colab_type": "text",
    "id": "_r6ffeaQZWMg"
   },
   "source": [
    "Check GPU(s)"
   ]
  },
  {
   "cell_type": "code",
   "execution_count": 6,
   "metadata": {
    "colab": {},
    "colab_type": "code",
    "id": "Ylc8dBfAZWMh",
    "outputId": "6f7de522-bcc0-4241-d62b-8ebcbcb10dac"
   },
   "outputs": [
    {
     "name": "stdout",
     "output_type": "stream",
     "text": [
      "Fri May  1 22:36:23 2020       \r\n",
      "+-----------------------------------------------------------------------------+\r\n",
      "| NVIDIA-SMI 440.82       Driver Version: 440.82       CUDA Version: 10.2     |\r\n",
      "|-------------------------------+----------------------+----------------------+\r\n",
      "| GPU  Name        Persistence-M| Bus-Id        Disp.A | Volatile Uncorr. ECC |\r\n",
      "| Fan  Temp  Perf  Pwr:Usage/Cap|         Memory-Usage | GPU-Util  Compute M. |\r\n",
      "|===============================+======================+======================|\r\n",
      "|   0  GeForce GTX 1070    Off  | 00000000:01:00.0  On |                  N/A |\r\n",
      "| N/A   58C    P8    11W /  N/A |    409MiB /  8117MiB |     10%      Default |\r\n",
      "+-------------------------------+----------------------+----------------------+\r\n",
      "                                                                               \r\n",
      "+-----------------------------------------------------------------------------+\r\n",
      "| Processes:                                                       GPU Memory |\r\n",
      "|  GPU       PID   Type   Process name                             Usage      |\r\n",
      "|=============================================================================|\r\n",
      "|    0      2403      G   /usr/lib/xorg/Xorg                            18MiB |\r\n",
      "|    0      2711      G   /usr/bin/gnome-shell                          48MiB |\r\n",
      "|    0      4541      G   /usr/lib/xorg/Xorg                           154MiB |\r\n",
      "|    0      4663      G   /usr/bin/gnome-shell                         184MiB |\r\n",
      "+-----------------------------------------------------------------------------+\r\n"
     ]
    }
   ],
   "source": [
    "!nvidia-smi"
   ]
  },
  {
   "cell_type": "markdown",
   "metadata": {
    "colab_type": "text",
    "id": "Gt7B3I2tZWMk"
   },
   "source": [
    "Set seeds for reproducibility"
   ]
  },
  {
   "cell_type": "code",
   "execution_count": 7,
   "metadata": {
    "colab": {},
    "colab_type": "code",
    "id": "WIi-ANmMZWMl"
   },
   "outputs": [],
   "source": [
    "seed = 1\n",
    "random.seed(seed)\n",
    "np.random.seed(seed)\n",
    "torch.manual_seed(seed)\n",
    "torch.cuda.manual_seed(seed)"
   ]
  },
  {
   "cell_type": "markdown",
   "metadata": {
    "colab_type": "text",
    "id": "ho9_mNfXZWMp"
   },
   "source": [
    "## Step 1: Training and validation data setup\n",
    "\n",
    "Get the location of the training (and validation) data"
   ]
  },
  {
   "cell_type": "code",
   "execution_count": 8,
   "metadata": {
    "colab": {},
    "colab_type": "code",
    "id": "Y5DRZ2OPZWMq"
   },
   "outputs": [],
   "source": [
    "train_dir = './small_data/small'\n",
    "t1_dir = os.path.join(train_dir, 't1')\n",
    "t2_dir = os.path.join(train_dir, 't2')"
   ]
  },
  {
   "cell_type": "code",
   "execution_count": 9,
   "metadata": {
    "colab": {},
    "colab_type": "code",
    "id": "CRVUz2SbZWMu"
   },
   "outputs": [],
   "source": [
    "t1_fns = glob(os.path.join(t1_dir, '*.nii*'))\n",
    "t2_fns = glob(os.path.join(t2_dir, '*.nii*'))\n",
    "assert len(t1_fns) == len(t2_fns) and len(t1_fns) != 0"
   ]
  },
  {
   "cell_type": "markdown",
   "metadata": {
    "colab_type": "text",
    "id": "gwCMiUxuZWMz"
   },
   "source": [
    "### Milestone 1\n",
    "\n",
    "Look at an axial view of the source T1-weighted (T1-w) and target T2-weighted (T2-w) images."
   ]
  },
  {
   "cell_type": "code",
   "execution_count": 10,
   "metadata": {
    "colab": {},
    "colab_type": "code",
    "id": "NMPuBBqBZWM0",
    "outputId": "3daf6811-f3f7-4528-9853-0ec7c2b567b5"
   },
   "outputs": [
    {
     "data": {
      "image/png": "[encoded data removed]",
      "text/plain": [
       "<Figure size 864x504 with 2 Axes>"
      ]
     },
     "metadata": {
      "needs_background": "light"
     },
     "output_type": "display_data"
    }
   ],
   "source": [
    "t1_ex, t2_ex = nib.load(t1_fns[0]).get_fdata(), nib.load(t2_fns[0]).get_fdata()\n",
    "fig,(ax1,ax2) = plt.subplots(1,2,figsize=(12,7))\n",
    "ax1.imshow(t1_ex[:,55,:], cmap='gray'); ax1.set_title('T1',fontsize=22); ax1.axis('off'); \n",
    "ax2.imshow(t2_ex[:,55,:], cmap='gray'); ax2.set_title('T2',fontsize=22); ax2.axis('off'); "
   ]
  },
  {
   "cell_type": "markdown",
   "metadata": {},
   "source": [
    "## Step 2: Datasets and transforms\n",
    "\n",
    "### Milestone 2.1 (Dataset class)"
   ]
  },
  {
   "cell_type": "code",
   "execution_count": 11,
   "metadata": {},
   "outputs": [],
   "source": [
    "def glob_imgs(path: str, ext='*.nii*') -> List[str]:\n",
    "    \"\"\" grab all `ext` files in a directory and sort them for consistency \"\"\"\n",
    "    fns = sorted(glob(os.path.join(path, ext)))\n",
    "    return fns\n",
    "\n",
    "\n",
    "class NiftiDataset(Dataset):\n",
    "    \"\"\"\n",
    "    create a dataset class in PyTorch for reading NIfTI files\n",
    "\n",
    "    Args:\n",
    "        source_dir (str): path to source images\n",
    "        target_dir (str): path to target images\n",
    "        transform (Callable): transform to apply to both source and target images\n",
    "        preload (bool): load all data when initializing the dataset\n",
    "    \"\"\"\n",
    "\n",
    "    def __init__(self, source_dir:str, target_dir:str, transform:Optional[Callable]=None, preload:bool=True):\n",
    "        self.source_dir, self.target_dir = source_dir, target_dir\n",
    "        self.source_fns, self.target_fns = glob_imgs(source_dir), glob_imgs(target_dir)\n",
    "        self.transform = transform\n",
    "        self.preload = preload\n",
    "        if len(self.source_fns) != len(self.target_fns) or len(self.source_fns) == 0:\n",
    "            raise ValueError(f'Number of source and target images must be equal and non-zero')\n",
    "        if preload:\n",
    "            self.imgs = [(nib.load(s).get_data().astype(np.float32), \n",
    "                          nib.load(t).get_data().astype(np.float32))\n",
    "                         for s, t in zip(self.source_fns, self.target_fns)]\n",
    "\n",
    "    def __len__(self):\n",
    "        return len(self.source_fns)\n",
    "\n",
    "    def __getitem__(self, idx:int):\n",
    "        if not self.preload:\n",
    "            src_fn, tgt_fn = self.source_fns[idx], self.target_fns[idx]\n",
    "            sample = (nib.load(src_fn).get_data(), nib.load(tgt_fn).get_data())\n",
    "        else:\n",
    "            sample = self.imgs[idx]\n",
    "        if self.transform is not None:\n",
    "            sample = self.transform(sample)\n",
    "        return sample"
   ]
  },
  {
   "cell_type": "markdown",
   "metadata": {},
   "source": [
    "### Milestone 2.2 (Transforms)"
   ]
  },
  {
   "cell_type": "code",
   "execution_count": 12,
   "metadata": {},
   "outputs": [],
   "source": [
    "class BaseTransform:\n",
    "    def __repr__(self): return f'{self.__class__.__name__}'\n",
    "\n",
    "\n",
    "class ToTensor(BaseTransform):\n",
    "    \"\"\" Convert images in sample to Tensors \"\"\"\n",
    "    def __call__(self, sample:Tuple[np.ndarray,np.ndarray]) -> Tuple[torch.Tensor,torch.Tensor]:\n",
    "        src, tgt = sample\n",
    "        return torch.from_numpy(src), torch.from_numpy(tgt)\n",
    "\n",
    "    \n",
    "class CropBase(BaseTransform):\n",
    "    \"\"\" base class for crop transform \"\"\"\n",
    "\n",
    "    def __init__(self, out_dim:int, output_size:Union[tuple,int,list], threshold:Optional[float]=None):\n",
    "        \"\"\" provide the common functionality for RandomCrop2D and RandomCrop3D \"\"\"\n",
    "        assert isinstance(output_size, (int, tuple, list))\n",
    "        if isinstance(output_size, int):\n",
    "            self.output_size = (output_size,)\n",
    "            for _ in range(out_dim - 1):\n",
    "                self.output_size += (output_size,)\n",
    "        else:\n",
    "            assert len(output_size) == out_dim\n",
    "            self.output_size = output_size\n",
    "        self.out_dim = out_dim\n",
    "        self.thresh = threshold\n",
    "\n",
    "    def _get_sample_idxs(self, img:np.ndarray) -> Tuple[int,int,int]:\n",
    "        \"\"\" get the set of indices from which to sample (foreground) \"\"\"\n",
    "        mask = np.where(img >= (img.mean() if self.thresh is None else self.thresh))  # returns a tuple of length 3\n",
    "        c = np.random.randint(0, len(mask[0]))  # choose the set of idxs to use\n",
    "        h, w, d = [m[c] for m in mask]  # pull out the chosen idxs\n",
    "        return h, w, d\n",
    "\n",
    "    def __repr__(self):\n",
    "        s = '{name}(output_size={output_size}, threshold={thresh})'\n",
    "        d = dict(self.__dict__)\n",
    "        return s.format(name=self.__class__.__name__, **d)\n",
    "\n",
    "    \n",
    "class RandomCrop3D(CropBase):\n",
    "    \"\"\"\n",
    "    Randomly crop a 3d patch from a (pair of) 3d image\n",
    "\n",
    "    Args:\n",
    "        output_size (tuple or int): Desired output size.\n",
    "            If int, cube crop is made.\n",
    "    \"\"\"\n",
    "\n",
    "    def __init__(self, output_size:Union[tuple,int,list], threshold:Optional[float]=None):\n",
    "        super().__init__(3, output_size, threshold)\n",
    "\n",
    "    def __call__(self, sample:Tuple[np.ndarray,np.ndarray]) -> Tuple[np.ndarray,np.ndarray]:\n",
    "        src, tgt = sample\n",
    "        *cs, h, w, d = src.shape\n",
    "        *ct, _, _, _ = tgt.shape\n",
    "        hh, ww, dd = self.output_size\n",
    "        max_idxs = (h-hh//2, w-ww//2, d-dd//2)\n",
    "        min_idxs = (hh//2, ww//2, dd//2)\n",
    "        s = src[0] if len(cs) > 0 else src  # use the first image to determine sampling if multimodal\n",
    "        s_idxs = super()._get_sample_idxs(s)\n",
    "        i, j, k = [i if min_i <= i <= max_i else max_i if i > max_i else min_i\n",
    "                   for max_i, min_i, i in zip(max_idxs, min_idxs, s_idxs)]\n",
    "        oh = 0 if hh % 2 == 0 else 1\n",
    "        ow = 0 if ww % 2 == 0 else 1\n",
    "        od = 0 if dd % 2 == 0 else 1\n",
    "        s = src[..., i-hh//2:i+hh//2+oh, j-ww//2:j+ww//2+ow, k-dd//2:k+dd//2+od]\n",
    "        t = tgt[..., i-hh//2:i+hh//2+oh, j-ww//2:j+ww//2+ow, k-dd//2:k+dd//2+od]\n",
    "        if len(cs) == 0: s = s[np.newaxis,...]  # add channel axis if empty\n",
    "        if len(ct) == 0: t = t[np.newaxis,...]\n",
    "        return s, t"
   ]
  },
  {
   "cell_type": "markdown",
   "metadata": {},
   "source": [
    "## Step 3: Create your neural network\n",
    "\n",
    "### Milestone 3"
   ]
  },
  {
   "cell_type": "code",
   "execution_count": 13,
   "metadata": {},
   "outputs": [],
   "source": [
    "def conv(i,o):\n",
    "    return (nn.Conv3d(i,o,3,padding=1,bias=False), \n",
    "            nn.BatchNorm3d(o), \n",
    "            nn.ReLU(inplace=True))\n",
    "\n",
    "def unet_block(i,m,o):\n",
    "    return nn.Sequential(*conv(i,m),*conv(m,o))\n",
    "\n",
    "class Unet(nn.Module):\n",
    "    def __init__(self, s=32):\n",
    "        super().__init__()\n",
    "        self.start = unet_block(1,s,s)\n",
    "        self.down1 = unet_block(s,s*2,s*2)\n",
    "        self.down2 = unet_block(s*2,s*4,s*4)\n",
    "        self.bridge = unet_block(s*4,s*8,s*4)\n",
    "        self.up2 = unet_block(s*8,s*4,s*2)\n",
    "        self.up1 = unet_block(s*4,s*2,s)\n",
    "        self.final = nn.Sequential(*conv(s*2,s),nn.Conv3d(s,1,1))\n",
    "    \n",
    "    def forward(self,x):\n",
    "        r = [self.start(x)]\n",
    "        r.append(self.down1(F.max_pool3d(r[-1],2)))\n",
    "        r.append(self.down2(F.max_pool3d(r[-1],2)))\n",
    "        x = F.interpolate(self.bridge(F.max_pool3d(r[-1],2)),size=r[-1].shape[2:])\n",
    "        x = F.interpolate(self.up2(torch.cat((x,r[-1]),dim=1)),size=r[-2].shape[2:])\n",
    "        x = F.interpolate(self.up1(torch.cat((x,r[-2]),dim=1)),size=r[-3].shape[2:])\n",
    "        x = self.final(torch.cat((x,r[-3]),dim=1))\n",
    "        return x"
   ]
  }
 ],
 "metadata": {
  "colab": {
   "collapsed_sections": [],
   "name": "1. Training and validation data setup.ipynb",
   "provenance": []
  },
  "kernelspec": {
   "display_name": "Python 3",
   "language": "python",
   "name": "python3"
  },
  "language_info": {
   "codemirror_mode": {
    "name": "ipython",
    "version": 3
   },
   "file_extension": ".py",
   "mimetype": "text/x-python",
   "name": "python",
   "nbconvert_exporter": "python",
   "pygments_lexer": "ipython3",
   "version": "3.7.3"
  }
 },
 "nbformat": 4,
 "nbformat_minor": 1
}
